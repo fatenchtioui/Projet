{
  "nbformat": 4,
  "nbformat_minor": 0,
  "metadata": {
    "colab": {
      "provenance": [],
      "authorship_tag": "ABX9TyMGNOeKNwchRJBc2VHi6o6l",
      "include_colab_link": true
    },
    "kernelspec": {
      "name": "python3",
      "display_name": "Python 3"
    },
    "language_info": {
      "name": "python"
    }
  },
  "cells": [
    {
      "cell_type": "markdown",
      "metadata": {
        "id": "view-in-github",
        "colab_type": "text"
      },
      "source": [
        "<a href=\"https://colab.research.google.com/github/fatenchtioui/Projet/blob/main/robot_demo.ipynb\" target=\"_parent\"><img src=\"https://colab.research.google.com/assets/colab-badge.svg\" alt=\"Open In Colab\"/></a>"
      ]
    },
    {
      "cell_type": "code",
      "source": [
        "import re\n",
        "import random\n",
        "\n",
        "class RulBot:\n",
        "    ## Potential Negative Responses\n",
        "    negative_responses = (\"no\", \"nope\", \"nah\", \"naw\", \"not a chance\", \"sorry\")\n",
        "    ## Exit conversation Keywords\n",
        "    exit_commands = (\"quit\", \"pause\", \"exit\", \"goodbye\", \"bye\", \"later\")\n",
        "    # Random starter question\n",
        "    random_question = (\n",
        "        \"Why are you here?\",\n",
        "        \"Are there many humans like you?\",\n",
        "        \"what do you consume for sustenance?\",\n",
        "        \"Is there intelligent life on this planet?\",\n",
        "        \"Does Earth have a leader?\",\n",
        "        \"what planets have you visited?\",\n",
        "        \"what technology do you have on this planet?\",\n",
        "    )\n",
        "\n",
        "    def __init__(self):\n",
        "        self.alienbabble = {\n",
        "            'describe_planet_intent': r'.*\\s*you planet.*',\n",
        "            'answer_why_intent': r'why\\sare.*',\n",
        "            'about_intellipat': r'.*\\s*intellipaat.*',\n",
        "        }\n",
        "\n",
        "    def greet(self):\n",
        "        self.name = input(\"What is your name?\\n\")\n",
        "        will_help = input(\n",
        "            f\"Hi {self.name}, I am Rule-Bot. Will you help me learn about your planet?\\n\"\n",
        "        )\n",
        "        if will_help in self.negative_responses:\n",
        "            print(\"Ok, have a nice Earth day!\")\n",
        "            return\n",
        "        self.chat()\n",
        "\n",
        "    def make_exit(self, reply):\n",
        "        for command in self.exit_commands:\n",
        "            if reply == command:\n",
        "                print(\"Okay, have a nice Earth day!\")\n",
        "                return True\n",
        "\n",
        "    def chat(self):\n",
        "        reply = input(random.choice(self.random_question)).lower()\n",
        "        while not self.make_exit(reply):\n",
        "            reply = input(self.match_reply(reply))\n",
        "\n",
        "    def match_reply(self, reply):\n",
        "        for key, value in self.alienbabble.items():\n",
        "            intent = key\n",
        "            regex_pattern = value\n",
        "            found_match = re.match(regex_pattern, reply)\n",
        "\n",
        "            if found_match and intent == 'describe_planet_intent':\n",
        "                return self.describe_planet_intent()\n",
        "            elif found_match and intent == 'answer_why_intent':\n",
        "                return self.answer_why_intent()\n",
        "            elif found_match and intent == 'about_intellipat':\n",
        "                return self.about_intellipat()\n",
        "\n",
        "        # If no match is found\n",
        "        return self.no_match_intent()\n",
        "\n",
        "    def describe_planet_intent(self):\n",
        "        responses = (\n",
        "            \"My planet is a utopia of diverse organisms and species.\\n\",\n",
        "            \"I am from Opidipus, the capital of the wayward Galaxies.\\n\",\n",
        "        )\n",
        "        return random.choice(responses)\n",
        "\n",
        "    def answer_why_intent(self):\n",
        "        responses = {\n",
        "            \"I come in peace\\n\",\n",
        "            \"I am here to collect data on your planet and its inhabitants\\n\",\n",
        "            \"I heard the coffee is good\\n\",\n",
        "        }\n",
        "        return random.choice(responses)\n",
        "\n",
        "    def about_intellipat(self):\n",
        "        responses = (\n",
        "            \"Intellipaat is the world's largest professional educational company\\n\",\n",
        "            \"Intellipaat will make you learn concepts in a way like never before\\n\",\n",
        "            \"Intellipaat is where your career and skill grow\\n\",\n",
        "        )\n",
        "        return random.choice(responses)\n",
        "\n",
        "    def no_match_intent(self):\n",
        "        responses = (\n",
        "            \"Please tell me more.\\n\",\n",
        "            \"Tell me more!\\n\",\n",
        "            \"Why do you say that?\\n\",\n",
        "            \"I see. Can you elaborate?\\n\",\n",
        "            \"Interesting. Can you tell me more?\\n\",\n",
        "            \"I see. How do you think?\\n\",\n",
        "            \"Why?\\n\",\n",
        "            \"How do you think I feel when you say that?\\n\",\n",
        "        )\n",
        "        return random.choice(responses)\n",
        "\n",
        "# Create an instance of the RulBot class\n",
        "AlienBot = RulBot()\n",
        "AlienBot.greet()\n"
      ],
      "metadata": {
        "colab": {
          "base_uri": "https://localhost:8080/"
        },
        "id": "_oZqtX_GfkeM",
        "outputId": "34966e6e-3387-4da0-f36a-f18b4e4af6ae"
      },
      "execution_count": null,
      "outputs": [
        {
          "output_type": "stream",
          "name": "stdout",
          "text": [
            "What is your name?\n",
            "sara\n",
            "Hi sara, I am Rule-Bot. Will you help me learn about your planet?\n",
            "My planet is a utopia of diverse organisms and species\n",
            "Are there many humans like you?yes\n",
            "Interesting. Can you tell me more?\n",
            "Intellipaat is the world's largest professional educational company\n",
            "Why do you say that?\n",
            "pause\n",
            "Okay, have a nice Earth day!\n"
          ]
        }
      ]
    },
    {
      "cell_type": "code",
      "source": [],
      "metadata": {
        "id": "SwkKEJlchoR9"
      },
      "execution_count": null,
      "outputs": []
    }
  ]
}