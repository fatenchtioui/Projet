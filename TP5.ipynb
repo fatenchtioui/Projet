{
  "nbformat": 4,
  "nbformat_minor": 0,
  "metadata": {
    "colab": {
      "provenance": [],
      "include_colab_link": true
    },
    "kernelspec": {
      "name": "python3",
      "display_name": "Python 3"
    },
    "language_info": {
      "name": "python"
    }
  },
  "cells": [
    {
      "cell_type": "markdown",
      "metadata": {
        "id": "view-in-github",
        "colab_type": "text"
      },
      "source": [
        "<a href=\"https://colab.research.google.com/github/fatenchtioui/Projet/blob/main/TP5.ipynb\" target=\"_parent\"><img src=\"https://colab.research.google.com/assets/colab-badge.svg\" alt=\"Open In Colab\"/></a>"
      ]
    },
    {
      "cell_type": "code",
      "execution_count": null,
      "metadata": {
        "colab": {
          "base_uri": "https://localhost:8080/"
        },
        "id": "6gAbdCcvigVW",
        "outputId": "a7233914-209e-4c22-ae99-ccbc263f75d4"
      },
      "outputs": [
        {
          "output_type": "stream",
          "name": "stdout",
          "text": [
            "Mounted at /content/drive\n"
          ]
        }
      ],
      "source": [
        "import tensorflow as tf\n",
        "from tensorflow.keras.preprocessing.image import ImageDataGenerator\n",
        "from tensorflow.keras.applications import VGG16\n",
        "from tensorflow.keras import layers, models\n",
        "\n",
        "# Connect to Google Drive (optional)\n",
        "from google.colab import drive\n",
        "drive.mount('/content/drive')"
      ]
    },
    {
      "cell_type": "code",
      "source": [
        "dataset_path = '/content/drive/MyDrive/train_cancer'"
      ],
      "metadata": {
        "id": "f4DtEKh5lb38"
      },
      "execution_count": null,
      "outputs": []
    },
    {
      "cell_type": "markdown",
      "source": [
        "# Data generators\n",
        "**Data generators** in the context of machine learning, and particularly deep learning, are a way to efficiently load and preprocess data in batches during training. They are commonly used when working with large datasets that may not fit into memory all at once. Data generators are crucial for training deep learning models in a memory-efficient manner.\n",
        "\n",
        "The key concepts related to data generators:\n",
        "\n",
        "1. **Batch Loading:**\n",
        "Data generators load a small batch of data at a time during each iteration of training. This is in contrast to loading the entire dataset into memory at once, which may not be feasible for large datasets.\n",
        "\n",
        "2. **Online Data Augmentation:**\n",
        "Data generators often include functionality for online data augmentation. Augmentation involves applying random transformations to the input data (e.g., rotation, zoom, flip) to increase the diversity of the training set and improve the model's generalization.\n",
        "\n",
        "3. **Memory Efficiency:**\n",
        "By loading and processing data in batches, data generators allow training on datasets that are larger than the available memory. This is especially important when dealing with high-resolution images or extensive datasets.\n",
        "\n",
        "4. **Integration with Model Training:**\n",
        "Data generators seamlessly integrate with training loops. They provide batches of input samples along with their corresponding labels, allowing the model to be trained in an iterative fashion.\n",
        "\n",
        "5. **Keras ImageDataGenerator:**\n",
        "In the context of deep learning with TensorFlow and Keras, the ImageDataGenerator class is commonly used for creating data generators. It performs real-time data augmentation on images and prepares them for training. The generator can be easily integrated into the fit method of a Keras model."
      ],
      "metadata": {
        "id": "6zShr6XgmXDx"
      }
    },
    {
      "cell_type": "code",
      "source": [
        "# Set up data generators\n",
        "#This line sets the batch size for training and validation data.\n",
        "#The batch size is the number of samples that will be used in each iteration of training.\n",
        "#It's a hyperparameter that affects the efficiency of training and the memory requirements.\n",
        "#Common values are powers of 2, like 32, 64, etc.\n",
        "batch_size = 32\n",
        "\n",
        "train_datagen = ImageDataGenerator(rescale=1./255, validation_split=0.2)\n",
        "#Instance of the ImageDataGenerator class is created.\n",
        "#This generator will be responsible for loading and augmenting the training data.\n",
        "#The rescale=1./255 parameter scales the pixel values of the images to the range [0, 1].\n",
        "#The validation_split=0.2 parameter specifies that 20% of the data will be used for validation.\n",
        "train_generator = train_datagen.flow_from_directory(\n",
        "    #The flow_from_directory method generates a data generator for the training set.\n",
        "    #It expects the path to a directory containing subdirectories for each class, where the actual image data is stored.\n",
        "    dataset_path,\n",
        "    target_size=(224, 224), #The size to which all images will be resized.\n",
        "    batch_size=batch_size,\n",
        "    class_mode='binary', #Since this is a Binary classification. For multiple classes classification, 'categorical' is chosen.\n",
        "    subset='training' # Indicates that this is the training subset of the data.\n",
        ")\n",
        "\n",
        "validation_generator = train_datagen.flow_from_directory(\n",
        "    dataset_path,\n",
        "    target_size=(224, 224),\n",
        "    batch_size=batch_size,\n",
        "    class_mode='binary',\n",
        "    subset='validation'\n",
        ")"
      ],
      "metadata": {
        "colab": {
          "base_uri": "https://localhost:8080/"
        },
        "id": "V8A9jLr9l6Xy",
        "outputId": "0f4257d9-d84e-42b4-abed-dc5fa4b07774"
      },
      "execution_count": null,
      "outputs": [
        {
          "output_type": "stream",
          "name": "stdout",
          "text": [
            "Found 216 images belonging to 2 classes.\n",
            "Found 54 images belonging to 2 classes.\n"
          ]
        }
      ]
    },
    {
      "cell_type": "code",
      "source": [
        "#Build the VGG16 model\n",
        "base_model = VGG16(weights='imagenet', include_top=False, input_shape=(224, 224, 3))\n",
        "#VGG16 is a pre-trained deep learning model architecture that achieved excellent performance on the ImageNet dataset.\n",
        "#weights='imagenet' specifies that the model should be initialized with weights pre-trained on the ImageNet dataset.\n",
        "#include_top=False means that the final fully connected layer (top layer) of the VGG16 model,\n",
        "#which is responsible for classification into ImageNet classes, will not be included.\n",
        "#We're going to add our own classification layers.\n",
        "\n",
        "model = models.Sequential()\n",
        "model.add(base_model)\n",
        "# Add the VGG16 base model to the Sequential model\n",
        "#This serves as the feature extractor from the input images\n",
        "model.add(layers.Flatten())\n",
        "# Flatten the output of the VGG16 base model\n",
        "model.add(layers.Dense(256, activation='relu'))\n",
        "# Add a dropout layer for regularization\n",
        "#\n",
        "model.add(layers.Dropout(0.5))\n",
        "model.add(layers.Dense(1, activation='sigmoid'))\n",
        "#model.add(layers.Dense(train_generator.num_classes, activation='softmax')) for multiclass"
      ],
      "metadata": {
        "colab": {
          "base_uri": "https://localhost:8080/"
        },
        "id": "uKTex8YDuW8u",
        "outputId": "c86e13b6-0c73-4c0e-b159-b9122bc2763a"
      },
      "execution_count": null,
      "outputs": [
        {
          "output_type": "stream",
          "name": "stdout",
          "text": [
            "Downloading data from https://storage.googleapis.com/tensorflow/keras-applications/vgg16/vgg16_weights_tf_dim_ordering_tf_kernels_notop.h5\n",
            "58889256/58889256 [==============================] - 0s 0us/step\n"
          ]
        }
      ]
    },
    {
      "cell_type": "markdown",
      "source": [
        "# Freezing layers\n",
        "Dans le contexte de l'apprentissage par transfert(transfer learning), il est courant d'utiliser un modèle pré-entraîné (tel que VGG16, dans le cas présent) et de l'affiner ensuite pour une tâche spécifique.\n",
        "* **Geler les couches** ( freezing layers) signifie que vous empêchez la mise à jour des poids de ces couches pendant l'apprentissage.\n",
        "\n",
        "En définissant les couches comme non entraînables, vous conservez les connaissances pré-entraînées capturées par ces couches.\n",
        "\n",
        "Cela est utile lorsque vous disposez de peu de données étiquetées pour votre tâche spécifique, car les caractéristiques apprises par le modèle pré-entraîné sur un grand base de données (tel qu'ImageNet) peuvent être utiles pour des tâches similaires."
      ],
      "metadata": {
        "id": "foFB52zBWPdY"
      }
    },
    {
      "cell_type": "markdown",
      "source": [
        "Le gel de toutes les couches d'un modèle pré-entraîné dépend de votre cas d'utilisation spécifique et de la taille de votre ensemble de données. Voici quelques éléments à prendre en compte :\n",
        "\n",
        "1. **Petits ensembles de données :**\n",
        "\n",
        "Si vous disposez d'un petit ensemble de données, il est courant de geler toutes les couches et de ne former que quelques couches supplémentaires au-dessus du modèle pré-entraîné. En effet, la formation d'un réseau neuronal profond à partir de zéro sur un petit ensemble de données peut entraîner un surajustement.\n",
        "2. **Grands ensembles de données :**\n",
        "\n",
        "Si vous disposez d'un ensemble de données important et diversifié, vous pouvez avoir suffisamment de données pour affiner non seulement les couches supérieures, mais aussi certaines des couches antérieures du modèle pré-entraîné. Cela peut s'avérer utile pour l'apprentissage de caractéristiques spécifiques à une tâche.\n",
        "3. **Similitude des tâches :**\n",
        "\n",
        "La décision de geler toutes les couches ou d'affiner certaines couches dépend également du degré de similitude entre votre tâche et celle pour laquelle le modèle pré-entraîné a été formé à l'origine. Si les tâches sont très similaires, il peut s'avérer utile d'ajuster plus de couches.\n",
        "\n",
        "4. **Ressources informatiques :**\n",
        "\n",
        "La formation de toutes les couches d'un réseau neuronal profond peut s'avérer coûteuse sur le plan informatique. Si vos ressources informatiques sont limitées, geler la plupart des couches et n'en former que quelques-unes peut être une approche pratique."
      ],
      "metadata": {
        "id": "C3ZXlrr3Yd9T"
      }
    },
    {
      "cell_type": "code",
      "source": [
        "# Freeze the VGG16 layers\n",
        "for layer in base_model.layers:\n",
        "    layer.trainable = False\n",
        "# if you don't want to freez all the layers :\n",
        "\n",
        "#fine_tune_at = 15  # Choose the number based on your requirements\n",
        "\n",
        "# Freeze all layers up to the specified layer\n",
        "#for layer in base_model.layers[:fine_tune_at]:\n",
        " #   layer.trainable = False"
      ],
      "metadata": {
        "id": "x2G5vcnlWNRn"
      },
      "execution_count": null,
      "outputs": []
    },
    {
      "cell_type": "code",
      "source": [
        "# Compile the model\n",
        "model.compile(\n",
        "    optimizer='adam',\n",
        "    loss='binary_crossentropy', #loss='categorical_crossentropy' for multiclass classification\n",
        "    metrics=['accuracy']\n",
        ")"
      ],
      "metadata": {
        "id": "nkvsG0NhVFMH"
      },
      "execution_count": null,
      "outputs": []
    },
    {
      "cell_type": "code",
      "source": [
        "# Display model summary\n",
        "model.summary()"
      ],
      "metadata": {
        "colab": {
          "base_uri": "https://localhost:8080/"
        },
        "id": "aQyksmSgattf",
        "outputId": "c12e8ee0-2e97-441a-f038-8ffc8f835f6d"
      },
      "execution_count": null,
      "outputs": [
        {
          "output_type": "stream",
          "name": "stdout",
          "text": [
            "Model: \"sequential\"\n",
            "_________________________________________________________________\n",
            " Layer (type)                Output Shape              Param #   \n",
            "=================================================================\n",
            " vgg16 (Functional)          (None, 7, 7, 512)         14714688  \n",
            "                                                                 \n",
            " flatten (Flatten)           (None, 25088)             0         \n",
            "                                                                 \n",
            " dense (Dense)               (None, 256)               6422784   \n",
            "                                                                 \n",
            " dropout (Dropout)           (None, 256)               0         \n",
            "                                                                 \n",
            " dense_1 (Dense)             (None, 1)                 257       \n",
            "                                                                 \n",
            "=================================================================\n",
            "Total params: 21137729 (80.63 MB)\n",
            "Trainable params: 6423041 (24.50 MB)\n",
            "Non-trainable params: 14714688 (56.13 MB)\n",
            "_________________________________________________________________\n"
          ]
        }
      ]
    },
    {
      "cell_type": "code",
      "source": [
        "epochs = 3\n",
        "#After training is complete, the fit method returns a History object. This object contains information about the training process,\n",
        "#such as training loss, training accuracy, validation loss, and validation accuracy at each epoch.\n",
        "history = model.fit(\n",
        "    train_generator,\n",
        "    steps_per_epoch=train_generator.samples // batch_size,\n",
        "    #In Keras, during the training process, one epoch is completed when the model has iterated over the entire training dataset once.\n",
        "    #However, the dataset is not processed in its entirety at once but rather in batches.\n",
        "    #steps_per_epoch specifies the number of batches to go through before considering one epoch finished.\n",
        "    #It's a way to define when to move to the next epoch during training.\n",
        "    epochs=epochs,\n",
        "    validation_data=validation_generator,\n",
        "    validation_steps=validation_generator.samples // batch_size\n",
        ")"
      ],
      "metadata": {
        "colab": {
          "base_uri": "https://localhost:8080/"
        },
        "id": "BwI5CR6laoyY",
        "outputId": "8899783b-148e-45b2-ed68-0aee5b40f97d"
      },
      "execution_count": null,
      "outputs": [
        {
          "output_type": "stream",
          "name": "stdout",
          "text": [
            "Epoch 1/3\n",
            "6/6 [==============================] - 163s 26s/step - loss: 2.1131 - accuracy: 0.8533 - val_loss: 0.9394 - val_accuracy: 0.8750\n",
            "Epoch 2/3\n",
            "6/6 [==============================] - 148s 25s/step - loss: 0.5697 - accuracy: 0.8438 - val_loss: 0.4350 - val_accuracy: 0.9062\n",
            "Epoch 3/3\n",
            "6/6 [==============================] - 164s 28s/step - loss: 0.4218 - accuracy: 0.8750 - val_loss: 0.3216 - val_accuracy: 0.9062\n"
          ]
        }
      ]
    },
    {
      "cell_type": "code",
      "source": [
        "model.save('/content/drive/MyDrive/trained models/model.h5')"
      ],
      "metadata": {
        "colab": {
          "base_uri": "https://localhost:8080/"
        },
        "id": "QkdNHyicdSB1",
        "outputId": "c2061f1f-508f-4d52-9b0d-fc2841dbe939"
      },
      "execution_count": null,
      "outputs": [
        {
          "output_type": "stream",
          "name": "stderr",
          "text": [
            "/usr/local/lib/python3.10/dist-packages/keras/src/engine/training.py:3079: UserWarning: You are saving your model as an HDF5 file via `model.save()`. This file format is considered legacy. We recommend using instead the native Keras format, e.g. `model.save('my_model.keras')`.\n",
            "  saving_api.save_model(\n"
          ]
        }
      ]
    },
    {
      "cell_type": "markdown",
      "source": [
        "H'extension **.h5** dans le nom de fichier \"model.h5\" indique que le modèle est enregistré dans le format de fichier Hierarchical Data Format (HDF5). HDF5 est un format de fichier et un ensemble d'outils de gestion de données complexes, couramment utilisé pour stocker de grandes quantités de données numériques, y compris les poids, les biais et l'architecture des modèles de réseaux neuron"
      ],
      "metadata": {
        "id": "eioDG0-seDjN"
      }
    },
    {
      "cell_type": "code",
      "source": [
        "# Evaluate the model\n",
        "score = model.evaluate(validation_generator, steps=validation_generator.samples // batch_size)\n",
        "print(f'Test Loss: {score[0]}, Test Accuracy: {score[1]}')"
      ],
      "metadata": {
        "colab": {
          "base_uri": "https://localhost:8080/"
        },
        "id": "ZxUilc9XeGR3",
        "outputId": "f4343660-5e28-42a4-c086-cf04cb646c9c"
      },
      "execution_count": null,
      "outputs": [
        {
          "output_type": "stream",
          "name": "stdout",
          "text": [
            "1/1 [==============================] - 21s 21s/step - loss: 0.3334 - accuracy: 0.9062\n",
            "Test Loss: 0.3334229588508606, Test Accuracy: 0.90625\n"
          ]
        }
      ]
    },
    {
      "cell_type": "code",
      "source": [
        "# Plot the training history\n",
        "import matplotlib.pyplot as plt\n",
        "\n",
        "acc = history.history['accuracy']\n",
        "val_acc = history.history['val_accuracy']\n",
        "loss = history.history['loss']\n",
        "val_loss = history.history['val_loss']\n",
        "\n",
        "epochs_range = range(epochs)\n",
        "\n",
        "plt.figure(figsize=(15, 5))\n",
        "plt.subplot(1, 2, 1)\n",
        "plt.plot(epochs_range, acc, label='Training Accuracy')\n",
        "plt.plot(epochs_range, val_acc, label='Validation Accuracy')\n",
        "plt.legend(loc='lower right')\n",
        "plt.title('Training and Validation Accuracy')\n"
      ],
      "metadata": {
        "colab": {
          "base_uri": "https://localhost:8080/",
          "height": 485
        },
        "id": "pn_UgZtDhavG",
        "outputId": "0c502906-1c38-410c-a58c-b4eee3ae59f7"
      },
      "execution_count": null,
      "outputs": [
        {
          "output_type": "execute_result",
          "data": {
            "text/plain": [
              "Text(0.5, 1.0, 'Training and Validation Accuracy')"
            ]
          },
          "metadata": {},
          "execution_count": 15
        },
        {
          "output_type": "display_data",
          "data": {
            "text/plain": [
              "<Figure size 1500x500 with 1 Axes>"
            ],
            "image/png": "[encoded data removed]"
          },
          "metadata": {}
        }
      ]
    },
    {
      "cell_type": "code",
      "source": [
        "plt.subplot(1, 2, 2)\n",
        "plt.plot(epochs_range, loss, label='Training Loss')\n",
        "plt.plot(epochs_range, val_loss, label='Validation Loss')\n",
        "plt.legend(loc='upper right')\n",
        "plt.title('Training and Validation Loss')\n",
        "\n",
        "plt.show()"
      ],
      "metadata": {
        "colab": {
          "base_uri": "https://localhost:8080/",
          "height": 452
        },
        "id": "2n9r9u6xheEl",
        "outputId": "46c09d21-acb7-4591-e1da-0f34bdf94a68"
      },
      "execution_count": null,
      "outputs": [
        {
          "output_type": "display_data",
          "data": {
            "text/plain": [
              "<Figure size 640x480 with 1 Axes>"
            ],
            "image/png": "[encoded data removed]"
          },
          "metadata": {}
        }
      ]
    }
  ]
}